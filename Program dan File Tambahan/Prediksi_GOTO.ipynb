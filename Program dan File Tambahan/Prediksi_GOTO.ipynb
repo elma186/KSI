{
  "cells": [
    {
      "cell_type": "markdown",
      "metadata": {
        "id": "U3RookDAKKkr"
      },
      "source": [
        "# **Prediksi Saham GOTO Menggunakan Algoritma Sarimax**\n",
        "### Nama: Elma Dyanatasha\n",
        "### NIM: 119140186"
      ]
    },
    {
      "cell_type": "markdown",
      "metadata": {
        "id": "pw5ssqzPK8KH"
      },
      "source": [
        "# Import Library\n"
      ]
    },
    {
      "cell_type": "code",
      "execution_count": null,
      "metadata": {
        "colab": {
          "base_uri": "https://localhost:8080/",
          "height": 553
        },
        "id": "YN0lgv8Kk5sw",
        "outputId": "7247aedc-a73d-41f9-dbaa-2fbd9d314245"
      },
      "outputs": [
        {
          "output_type": "stream",
          "name": "stdout",
          "text": [
            "Looking in indexes: https://pypi.org/simple, https://us-python.pkg.dev/colab-wheels/public/simple/\n",
            "Requirement already satisfied: pmdarima in /usr/local/lib/python3.9/dist-packages (2.0.3)\n",
            "Requirement already satisfied: pandas>=0.19 in /usr/local/lib/python3.9/dist-packages (from pmdarima) (1.4.4)\n",
            "Requirement already satisfied: joblib>=0.11 in /usr/local/lib/python3.9/dist-packages (from pmdarima) (1.1.1)\n",
            "Requirement already satisfied: scikit-learn>=0.22 in /usr/local/lib/python3.9/dist-packages (from pmdarima) (1.2.2)\n",
            "Requirement already satisfied: setuptools!=50.0.0,>=38.6.0 in /usr/local/lib/python3.9/dist-packages (from pmdarima) (67.6.0)\n",
            "Requirement already satisfied: scipy>=1.3.2 in /usr/local/lib/python3.9/dist-packages (from pmdarima) (1.10.1)\n",
            "Requirement already satisfied: urllib3 in /usr/local/lib/python3.9/dist-packages (from pmdarima) (1.26.15)\n",
            "Requirement already satisfied: statsmodels>=0.13.2 in /usr/local/lib/python3.9/dist-packages (from pmdarima) (0.13.5)\n",
            "Requirement already satisfied: Cython!=0.29.18,!=0.29.31,>=0.29 in /usr/local/lib/python3.9/dist-packages (from pmdarima) (0.29.33)\n",
            "Requirement already satisfied: numpy>=1.21.2 in /usr/local/lib/python3.9/dist-packages (from pmdarima) (1.22.4)\n",
            "Requirement already satisfied: pytz>=2020.1 in /usr/local/lib/python3.9/dist-packages (from pandas>=0.19->pmdarima) (2022.7.1)\n",
            "Requirement already satisfied: python-dateutil>=2.8.1 in /usr/local/lib/python3.9/dist-packages (from pandas>=0.19->pmdarima) (2.8.2)\n",
            "Requirement already satisfied: threadpoolctl>=2.0.0 in /usr/local/lib/python3.9/dist-packages (from scikit-learn>=0.22->pmdarima) (3.1.0)\n",
            "Requirement already satisfied: packaging>=21.3 in /usr/local/lib/python3.9/dist-packages (from statsmodels>=0.13.2->pmdarima) (23.0)\n",
            "Requirement already satisfied: patsy>=0.5.2 in /usr/local/lib/python3.9/dist-packages (from statsmodels>=0.13.2->pmdarima) (0.5.3)\n",
            "Requirement already satisfied: six in /usr/local/lib/python3.9/dist-packages (from patsy>=0.5.2->statsmodels>=0.13.2->pmdarima) (1.16.0)\n"
          ]
        },
        {
          "output_type": "execute_result",
          "data": {
            "text/plain": [
              "             Open   High    Low  Close  Adj Close      Volume\n",
              "Date                                                         \n",
              "2023-02-21  122.0  123.0  120.0  121.0      121.0  2981870500\n",
              "2023-02-22  119.0  120.0  113.0  116.0      116.0  4225445100\n",
              "2023-02-23  118.0  119.0  115.0  116.0      116.0  1792359400\n",
              "2023-02-24  118.0  122.0  116.0  120.0      120.0  2348456200\n",
              "2023-02-27  120.0  122.0  117.0  118.0      118.0  2277082600"
            ],
            "text/html": [
              "\n",
              "  <div id=\"df-e5c87b0b-93cd-4ead-bc91-59f92a886006\">\n",
              "    <div class=\"colab-df-container\">\n",
              "      <div>\n",
              "<style scoped>\n",
              "    .dataframe tbody tr th:only-of-type {\n",
              "        vertical-align: middle;\n",
              "    }\n",
              "\n",
              "    .dataframe tbody tr th {\n",
              "        vertical-align: top;\n",
              "    }\n",
              "\n",
              "    .dataframe thead th {\n",
              "        text-align: right;\n",
              "    }\n",
              "</style>\n",
              "<table border=\"1\" class=\"dataframe\">\n",
              "  <thead>\n",
              "    <tr style=\"text-align: right;\">\n",
              "      <th></th>\n",
              "      <th>Open</th>\n",
              "      <th>High</th>\n",
              "      <th>Low</th>\n",
              "      <th>Close</th>\n",
              "      <th>Adj Close</th>\n",
              "      <th>Volume</th>\n",
              "    </tr>\n",
              "    <tr>\n",
              "      <th>Date</th>\n",
              "      <th></th>\n",
              "      <th></th>\n",
              "      <th></th>\n",
              "      <th></th>\n",
              "      <th></th>\n",
              "      <th></th>\n",
              "    </tr>\n",
              "  </thead>\n",
              "  <tbody>\n",
              "    <tr>\n",
              "      <th>2023-02-21</th>\n",
              "      <td>122.0</td>\n",
              "      <td>123.0</td>\n",
              "      <td>120.0</td>\n",
              "      <td>121.0</td>\n",
              "      <td>121.0</td>\n",
              "      <td>2981870500</td>\n",
              "    </tr>\n",
              "    <tr>\n",
              "      <th>2023-02-22</th>\n",
              "      <td>119.0</td>\n",
              "      <td>120.0</td>\n",
              "      <td>113.0</td>\n",
              "      <td>116.0</td>\n",
              "      <td>116.0</td>\n",
              "      <td>4225445100</td>\n",
              "    </tr>\n",
              "    <tr>\n",
              "      <th>2023-02-23</th>\n",
              "      <td>118.0</td>\n",
              "      <td>119.0</td>\n",
              "      <td>115.0</td>\n",
              "      <td>116.0</td>\n",
              "      <td>116.0</td>\n",
              "      <td>1792359400</td>\n",
              "    </tr>\n",
              "    <tr>\n",
              "      <th>2023-02-24</th>\n",
              "      <td>118.0</td>\n",
              "      <td>122.0</td>\n",
              "      <td>116.0</td>\n",
              "      <td>120.0</td>\n",
              "      <td>120.0</td>\n",
              "      <td>2348456200</td>\n",
              "    </tr>\n",
              "    <tr>\n",
              "      <th>2023-02-27</th>\n",
              "      <td>120.0</td>\n",
              "      <td>122.0</td>\n",
              "      <td>117.0</td>\n",
              "      <td>118.0</td>\n",
              "      <td>118.0</td>\n",
              "      <td>2277082600</td>\n",
              "    </tr>\n",
              "  </tbody>\n",
              "</table>\n",
              "</div>\n",
              "      <button class=\"colab-df-convert\" onclick=\"convertToInteractive('df-e5c87b0b-93cd-4ead-bc91-59f92a886006')\"\n",
              "              title=\"Convert this dataframe to an interactive table.\"\n",
              "              style=\"display:none;\">\n",
              "        \n",
              "  <svg xmlns=\"http://www.w3.org/2000/svg\" height=\"24px\"viewBox=\"0 0 24 24\"\n",
              "       width=\"24px\">\n",
              "    <path d=\"M0 0h24v24H0V0z\" fill=\"none\"/>\n",
              "    <path d=\"M18.56 5.44l.94 2.06.94-2.06 2.06-.94-2.06-.94-.94-2.06-.94 2.06-2.06.94zm-11 1L8.5 8.5l.94-2.06 2.06-.94-2.06-.94L8.5 2.5l-.94 2.06-2.06.94zm10 10l.94 2.06.94-2.06 2.06-.94-2.06-.94-.94-2.06-.94 2.06-2.06.94z\"/><path d=\"M17.41 7.96l-1.37-1.37c-.4-.4-.92-.59-1.43-.59-.52 0-1.04.2-1.43.59L10.3 9.45l-7.72 7.72c-.78.78-.78 2.05 0 2.83L4 21.41c.39.39.9.59 1.41.59.51 0 1.02-.2 1.41-.59l7.78-7.78 2.81-2.81c.8-.78.8-2.07 0-2.86zM5.41 20L4 18.59l7.72-7.72 1.47 1.35L5.41 20z\"/>\n",
              "  </svg>\n",
              "      </button>\n",
              "      \n",
              "  <style>\n",
              "    .colab-df-container {\n",
              "      display:flex;\n",
              "      flex-wrap:wrap;\n",
              "      gap: 12px;\n",
              "    }\n",
              "\n",
              "    .colab-df-convert {\n",
              "      background-color: #E8F0FE;\n",
              "      border: none;\n",
              "      border-radius: 50%;\n",
              "      cursor: pointer;\n",
              "      display: none;\n",
              "      fill: #1967D2;\n",
              "      height: 32px;\n",
              "      padding: 0 0 0 0;\n",
              "      width: 32px;\n",
              "    }\n",
              "\n",
              "    .colab-df-convert:hover {\n",
              "      background-color: #E2EBFA;\n",
              "      box-shadow: 0px 1px 2px rgba(60, 64, 67, 0.3), 0px 1px 3px 1px rgba(60, 64, 67, 0.15);\n",
              "      fill: #174EA6;\n",
              "    }\n",
              "\n",
              "    [theme=dark] .colab-df-convert {\n",
              "      background-color: #3B4455;\n",
              "      fill: #D2E3FC;\n",
              "    }\n",
              "\n",
              "    [theme=dark] .colab-df-convert:hover {\n",
              "      background-color: #434B5C;\n",
              "      box-shadow: 0px 1px 3px 1px rgba(0, 0, 0, 0.15);\n",
              "      filter: drop-shadow(0px 1px 2px rgba(0, 0, 0, 0.3));\n",
              "      fill: #FFFFFF;\n",
              "    }\n",
              "  </style>\n",
              "\n",
              "      <script>\n",
              "        const buttonEl =\n",
              "          document.querySelector('#df-e5c87b0b-93cd-4ead-bc91-59f92a886006 button.colab-df-convert');\n",
              "        buttonEl.style.display =\n",
              "          google.colab.kernel.accessAllowed ? 'block' : 'none';\n",
              "\n",
              "        async function convertToInteractive(key) {\n",
              "          const element = document.querySelector('#df-e5c87b0b-93cd-4ead-bc91-59f92a886006');\n",
              "          const dataTable =\n",
              "            await google.colab.kernel.invokeFunction('convertToInteractive',\n",
              "                                                     [key], {});\n",
              "          if (!dataTable) return;\n",
              "\n",
              "          const docLinkHtml = 'Like what you see? Visit the ' +\n",
              "            '<a target=\"_blank\" href=https://colab.research.google.com/notebooks/data_table.ipynb>data table notebook</a>'\n",
              "            + ' to learn more about interactive tables.';\n",
              "          element.innerHTML = '';\n",
              "          dataTable['output_type'] = 'display_data';\n",
              "          await google.colab.output.renderOutput(dataTable, element);\n",
              "          const docLink = document.createElement('div');\n",
              "          docLink.innerHTML = docLinkHtml;\n",
              "          element.appendChild(docLink);\n",
              "        }\n",
              "      </script>\n",
              "    </div>\n",
              "  </div>\n",
              "  "
            ]
          },
          "metadata": {},
          "execution_count": 30
        }
      ],
      "source": [
        "!pip install pmdarima\n",
        "\n",
        "from pmdarima import auto_arima\n",
        "import numpy as np\n",
        "import pandas as pd\n",
        "import matplotlib.pyplot as plt\n",
        "\n",
        "df = pd.read_csv('/content/GOTO.csv', parse_dates=['Date'], index_col='Date')\n",
        "df.head()"
      ]
    },
    {
      "cell_type": "code",
      "execution_count": null,
      "metadata": {
        "colab": {
          "base_uri": "https://localhost:8080/"
        },
        "id": "v5HqWI7clg6r",
        "outputId": "01b2ea08-86c6-41e9-ce14-a61e0d75239e"
      },
      "outputs": [
        {
          "output_type": "execute_result",
          "data": {
            "text/plain": [
              "(21, 6)"
            ]
          },
          "metadata": {},
          "execution_count": 31
        }
      ],
      "source": [
        "df.shape"
      ]
    },
    {
      "cell_type": "code",
      "execution_count": null,
      "metadata": {
        "colab": {
          "base_uri": "https://localhost:8080/",
          "height": 282
        },
        "id": "VPPQurQOrOV_",
        "outputId": "56e7898f-f3e6-4c54-9c2c-83bd8a89ee70"
      },
      "outputs": [
        {
          "output_type": "execute_result",
          "data": {
            "text/plain": [
              "[<matplotlib.lines.Line2D at 0x7fd43011f490>]"
            ]
          },
          "metadata": {},
          "execution_count": 32
        },
        {
          "output_type": "display_data",
          "data": {
            "text/plain": [
              "<Figure size 432x288 with 1 Axes>"
            ],
            "image/png": "[encoded data removed]"
          },
          "metadata": {
            "needs_background": "light"
          }
        }
      ],
      "source": [
        "ts = df['Open']\n",
        "plt.plot(ts)"
      ]
    },
    {
      "cell_type": "code",
      "execution_count": null,
      "metadata": {
        "colab": {
          "base_uri": "https://localhost:8080/"
        },
        "id": "LmRxaj4trx4a",
        "outputId": "df774a23-2690-4fc3-8deb-5791b5d300f6"
      },
      "outputs": [
        {
          "output_type": "stream",
          "name": "stdout",
          "text": [
            "Date\n",
            "2023-02-21    122.0\n",
            "2023-02-22    119.0\n",
            "2023-02-23    118.0\n",
            "2023-02-24    118.0\n",
            "2023-02-27    120.0\n",
            "2023-02-28    118.0\n",
            "2023-03-01    119.0\n",
            "2023-03-02    122.0\n",
            "2023-03-03    123.0\n",
            "2023-03-06    125.0\n",
            "2023-03-07    129.0\n",
            "2023-03-08    129.0\n",
            "2023-03-09    131.0\n",
            "2023-03-10    128.0\n",
            "2023-03-13    124.0\n",
            "2023-03-14    126.0\n",
            "2023-03-15    124.0\n",
            "2023-03-16    121.0\n",
            "2023-03-17    119.0\n",
            "2023-03-20    115.0\n",
            "2023-03-21    105.0\n",
            "Name: Open, dtype: float64\n"
          ]
        }
      ],
      "source": [
        "print(ts)"
      ]
    },
    {
      "cell_type": "markdown",
      "metadata": {
        "id": "WfurVhO0LcYW"
      },
      "source": [
        "# Time Series Trend"
      ]
    },
    {
      "cell_type": "code",
      "execution_count": null,
      "metadata": {
        "id": "Egf_ZSjFxPV7",
        "colab": {
          "base_uri": "https://localhost:8080/"
        },
        "outputId": "da82e4e1-6e2f-4fb9-c88c-3ba55f588130"
      },
      "outputs": [
        {
          "output_type": "execute_result",
          "data": {
            "text/plain": [
              "Date\n",
              "2023-02-21    4.804021\n",
              "2023-02-22    4.779123\n",
              "2023-02-23    4.770685\n",
              "2023-02-24    4.770685\n",
              "2023-02-27    4.787492\n",
              "2023-02-28    4.770685\n",
              "2023-03-01    4.779123\n",
              "2023-03-02    4.804021\n",
              "2023-03-03    4.812184\n",
              "2023-03-06    4.828314\n",
              "2023-03-07    4.859812\n",
              "2023-03-08    4.859812\n",
              "2023-03-09    4.875197\n",
              "2023-03-10    4.852030\n",
              "2023-03-13    4.820282\n",
              "2023-03-14    4.836282\n",
              "2023-03-15    4.820282\n",
              "2023-03-16    4.795791\n",
              "2023-03-17    4.779123\n",
              "2023-03-20    4.744932\n",
              "2023-03-21    4.653960\n",
              "Name: Open, dtype: float64"
            ]
          },
          "metadata": {},
          "execution_count": 48
        }
      ],
      "source": [
        "import matplotlib.gridspec as gridspec\n",
        "\n",
        "ts_log = np.log(ts)\n",
        "\n",
        "ts_log"
      ]
    },
    {
      "cell_type": "markdown",
      "metadata": {
        "id": "-qBHSwA4MJ0p"
      },
      "source": [
        "# Eliminating Trend"
      ]
    },
    {
      "cell_type": "code",
      "execution_count": null,
      "metadata": {
        "colab": {
          "base_uri": "https://localhost:8080/",
          "height": 554
        },
        "id": "N8PkRdE8xrB9",
        "outputId": "2d81af52-2193-40c0-dc73-9e38aa48fc25"
      },
      "outputs": [
        {
          "output_type": "stream",
          "name": "stderr",
          "text": [
            "/usr/local/lib/python3.9/dist-packages/statsmodels/graphics/tsaplots.py:348: FutureWarning: The default method 'yw' can produce PACF values outside of the [-1,1] interval. After 0.13, the default will change tounadjusted Yule-Walker ('ywm'). You can use this method now by setting method='ywm'.\n",
            "  warnings.warn(\n"
          ]
        },
        {
          "output_type": "display_data",
          "data": {
            "text/plain": [
              "<Figure size 864x576 with 2 Axes>"
            ],
            "image/png": "[encoded data removed]"
          },
          "metadata": {
            "needs_background": "light"
          }
        }
      ],
      "source": [
        "from statsmodels.graphics import tsaplots as tsa\n",
        "ts_log_diff = ts_log - ts_log.shift(1)\n",
        "fig = plt.figure(figsize=(12,8))\n",
        "ax1 = fig.add_subplot(211)\n",
        "fig = tsa.plot_acf(ts_log_diff.iloc[13:], lags=3, ax=ax1)\n",
        "ax2 = fig.add_subplot(212)\n",
        "fig = tsa.plot_pacf(ts_log_diff.iloc[13:], lags=3, ax=ax2)"
      ]
    },
    {
      "cell_type": "markdown",
      "metadata": {
        "id": "EBu3MKuIMkrI"
      },
      "source": [
        "# Decomposing"
      ]
    },
    {
      "cell_type": "code",
      "execution_count": null,
      "metadata": {
        "id": "MdqStADj5_IV",
        "colab": {
          "base_uri": "https://localhost:8080/"
        },
        "outputId": "be3445bc-ac18-4447-8502-9dd1f5e92d47"
      },
      "outputs": [
        {
          "output_type": "execute_result",
          "data": {
            "text/plain": [
              "Date\n",
              "2023-02-22   -0.024898\n",
              "2023-02-23   -0.008439\n",
              "2023-02-24    0.000000\n",
              "2023-02-27    0.016807\n",
              "2023-02-28   -0.016807\n",
              "2023-03-01    0.008439\n",
              "2023-03-02    0.024898\n",
              "2023-03-03    0.008163\n",
              "2023-03-06    0.016129\n",
              "2023-03-07    0.031499\n",
              "2023-03-08    0.000000\n",
              "2023-03-09    0.015385\n",
              "2023-03-10   -0.023167\n",
              "2023-03-13   -0.031749\n",
              "2023-03-14    0.016000\n",
              "2023-03-15   -0.016000\n",
              "2023-03-16   -0.024491\n",
              "2023-03-17   -0.016667\n",
              "2023-03-20   -0.034191\n",
              "2023-03-21   -0.090972\n",
              "Name: Open, dtype: float64"
            ]
          },
          "metadata": {},
          "execution_count": 49
        }
      ],
      "source": [
        "ts_decompose = ts_log_diff\n",
        "ts_decompose.dropna(inplace=True)\n",
        "ts_decompose"
      ]
    },
    {
      "cell_type": "markdown",
      "metadata": {
        "id": "8sGpdG8IMyV6"
      },
      "source": [
        "# Forecasting Time Series"
      ]
    },
    {
      "cell_type": "code",
      "execution_count": null,
      "metadata": {
        "colab": {
          "base_uri": "https://localhost:8080/",
          "height": 499
        },
        "id": "KsCb08BX6S9K",
        "outputId": "53ef1759-437c-4267-fee4-e504f89c3ca9"
      },
      "outputs": [
        {
          "output_type": "display_data",
          "data": {
            "text/plain": [
              "<Figure size 864x576 with 2 Axes>"
            ],
            "image/png": "[encoded data removed]"
          },
          "metadata": {
            "needs_background": "light"
          }
        }
      ],
      "source": [
        "fig = plt.figure(figsize=(12,8))\n",
        "ax1 = fig.add_subplot(211)\n",
        "fig = tsa.plot_acf(ts_decompose, lags=3, ax=ax1)\n",
        "ax2 = fig.add_subplot(212)\n",
        "fig = tsa.plot_pacf(ts_decompose, lags=3, ax=ax2)"
      ]
    },
    {
      "cell_type": "markdown",
      "source": [
        "# Pencarian Ordo Terbaik"
      ],
      "metadata": {
        "id": "oCvqQktwXTWd"
      }
    },
    {
      "cell_type": "code",
      "source": [
        "stepwise_fit = auto_arima(ts_decompose, trace=True, suppress_warnings=True)\n",
        "\n",
        "stepwise_fit.summary()"
      ],
      "metadata": {
        "colab": {
          "base_uri": "https://localhost:8080/",
          "height": 704
        },
        "id": "yX72bnbO8nYE",
        "outputId": "81f8a181-267d-4ff8-f8ad-37d2a8d8a7bc"
      },
      "execution_count": null,
      "outputs": [
        {
          "output_type": "stream",
          "name": "stdout",
          "text": [
            "Performing stepwise search to minimize aic\n",
            " ARIMA(2,0,2)(0,0,0)[0] intercept   : AIC=-81.090, Time=0.55 sec\n",
            " ARIMA(0,0,0)(0,0,0)[0] intercept   : AIC=-83.479, Time=0.09 sec\n",
            " ARIMA(1,0,0)(0,0,0)[0] intercept   : AIC=-85.602, Time=0.06 sec\n",
            " ARIMA(0,0,1)(0,0,0)[0] intercept   : AIC=-84.945, Time=0.10 sec\n",
            " ARIMA(0,0,0)(0,0,0)[0]             : AIC=-84.008, Time=0.03 sec\n",
            " ARIMA(2,0,0)(0,0,0)[0] intercept   : AIC=-83.945, Time=0.15 sec\n",
            " ARIMA(1,0,1)(0,0,0)[0] intercept   : AIC=-84.339, Time=0.17 sec\n",
            " ARIMA(2,0,1)(0,0,0)[0] intercept   : AIC=-82.341, Time=0.23 sec\n",
            " ARIMA(1,0,0)(0,0,0)[0]             : AIC=-86.380, Time=0.04 sec\n",
            " ARIMA(2,0,0)(0,0,0)[0]             : AIC=-84.767, Time=0.19 sec\n",
            " ARIMA(1,0,1)(0,0,0)[0]             : AIC=-85.230, Time=0.24 sec\n",
            " ARIMA(0,0,1)(0,0,0)[0]             : AIC=-85.599, Time=0.23 sec\n",
            " ARIMA(2,0,1)(0,0,0)[0]             : AIC=-83.230, Time=0.39 sec\n",
            "\n",
            "Best model:  ARIMA(1,0,0)(0,0,0)[0]          \n",
            "Total fit time: 2.499 seconds\n"
          ]
        },
        {
          "output_type": "execute_result",
          "data": {
            "text/plain": [
              "<class 'statsmodels.iolib.summary.Summary'>\n",
              "\"\"\"\n",
              "                               SARIMAX Results                                \n",
              "==============================================================================\n",
              "Dep. Variable:                      y   No. Observations:                   20\n",
              "Model:               SARIMAX(1, 0, 0)   Log Likelihood                  45.190\n",
              "Date:                Wed, 29 Mar 2023   AIC                            -86.380\n",
              "Time:                        12:29:11   BIC                            -84.388\n",
              "Sample:                    02-22-2023   HQIC                           -85.991\n",
              "                         - 03-21-2023                                         \n",
              "Covariance Type:                  opg                                         \n",
              "==============================================================================\n",
              "                 coef    std err          z      P>|z|      [0.025      0.975]\n",
              "------------------------------------------------------------------------------\n",
              "ar.L1          0.6487      0.277      2.346      0.019       0.107       1.191\n",
              "sigma2         0.0006      0.000      2.745      0.006       0.000       0.001\n",
              "===================================================================================\n",
              "Ljung-Box (L1) (Q):                   0.18   Jarque-Bera (JB):                 1.09\n",
              "Prob(Q):                              0.67   Prob(JB):                         0.58\n",
              "Heteroskedasticity (H):               3.46   Skew:                            -0.57\n",
              "Prob(H) (two-sided):                  0.12   Kurtosis:                         3.18\n",
              "===================================================================================\n",
              "\n",
              "Warnings:\n",
              "[1] Covariance matrix calculated using the outer product of gradients (complex-step).\n",
              "\"\"\""
            ],
            "text/html": [
              "<table class=\"simpletable\">\n",
              "<caption>SARIMAX Results</caption>\n",
              "<tr>\n",
              "  <th>Dep. Variable:</th>           <td>y</td>        <th>  No. Observations:  </th>   <td>20</td>   \n",
              "</tr>\n",
              "<tr>\n",
              "  <th>Model:</th>           <td>SARIMAX(1, 0, 0)</td> <th>  Log Likelihood     </th> <td>45.190</td> \n",
              "</tr>\n",
              "<tr>\n",
              "  <th>Date:</th>            <td>Wed, 29 Mar 2023</td> <th>  AIC                </th> <td>-86.380</td>\n",
              "</tr>\n",
              "<tr>\n",
              "  <th>Time:</th>                <td>12:29:11</td>     <th>  BIC                </th> <td>-84.388</td>\n",
              "</tr>\n",
              "<tr>\n",
              "  <th>Sample:</th>             <td>02-22-2023</td>    <th>  HQIC               </th> <td>-85.991</td>\n",
              "</tr>\n",
              "<tr>\n",
              "  <th></th>                   <td>- 03-21-2023</td>   <th>                     </th>    <td> </td>   \n",
              "</tr>\n",
              "<tr>\n",
              "  <th>Covariance Type:</th>        <td>opg</td>       <th>                     </th>    <td> </td>   \n",
              "</tr>\n",
              "</table>\n",
              "<table class=\"simpletable\">\n",
              "<tr>\n",
              "     <td></td>       <th>coef</th>     <th>std err</th>      <th>z</th>      <th>P>|z|</th>  <th>[0.025</th>    <th>0.975]</th>  \n",
              "</tr>\n",
              "<tr>\n",
              "  <th>ar.L1</th>  <td>    0.6487</td> <td>    0.277</td> <td>    2.346</td> <td> 0.019</td> <td>    0.107</td> <td>    1.191</td>\n",
              "</tr>\n",
              "<tr>\n",
              "  <th>sigma2</th> <td>    0.0006</td> <td>    0.000</td> <td>    2.745</td> <td> 0.006</td> <td>    0.000</td> <td>    0.001</td>\n",
              "</tr>\n",
              "</table>\n",
              "<table class=\"simpletable\">\n",
              "<tr>\n",
              "  <th>Ljung-Box (L1) (Q):</th>     <td>0.18</td> <th>  Jarque-Bera (JB):  </th> <td>1.09</td> \n",
              "</tr>\n",
              "<tr>\n",
              "  <th>Prob(Q):</th>                <td>0.67</td> <th>  Prob(JB):          </th> <td>0.58</td> \n",
              "</tr>\n",
              "<tr>\n",
              "  <th>Heteroskedasticity (H):</th> <td>3.46</td> <th>  Skew:              </th> <td>-0.57</td>\n",
              "</tr>\n",
              "<tr>\n",
              "  <th>Prob(H) (two-sided):</th>    <td>0.12</td> <th>  Kurtosis:          </th> <td>3.18</td> \n",
              "</tr>\n",
              "</table><br/><br/>Warnings:<br/>[1] Covariance matrix calculated using the outer product of gradients (complex-step)."
            ]
          },
          "metadata": {},
          "execution_count": 44
        }
      ]
    },
    {
      "cell_type": "markdown",
      "metadata": {
        "id": "x1aU97dgNBZj"
      },
      "source": [
        "# Pembuatan model SARIMAX"
      ]
    },
    {
      "cell_type": "code",
      "execution_count": null,
      "metadata": {
        "colab": {
          "base_uri": "https://localhost:8080/",
          "height": 455
        },
        "id": "ZyugizT_6t6m",
        "outputId": "6f762397-474e-4e2e-862d-9d38ce542f95"
      },
      "outputs": [
        {
          "output_type": "stream",
          "name": "stderr",
          "text": [
            "/usr/local/lib/python3.9/dist-packages/statsmodels/tsa/base/tsa_model.py:471: ValueWarning: No frequency information was provided, so inferred frequency B will be used.\n",
            "  self._init_dates(dates, freq)\n",
            "/usr/local/lib/python3.9/dist-packages/statsmodels/tsa/base/tsa_model.py:471: ValueWarning: No frequency information was provided, so inferred frequency B will be used.\n",
            "  self._init_dates(dates, freq)\n",
            "/usr/local/lib/python3.9/dist-packages/statsmodels/tsa/statespace/sarimax.py:866: UserWarning: Too few observations to estimate starting parameters for seasonal ARMA. All parameters except for variances will be set to zeros.\n",
            "  warn('Too few observations to estimate starting parameters%s.'\n"
          ]
        },
        {
          "output_type": "stream",
          "name": "stdout",
          "text": [
            "SARIMAX RMSE: 0.021386\n"
          ]
        },
        {
          "output_type": "display_data",
          "data": {
            "text/plain": [
              "<Figure size 432x288 with 2 Axes>"
            ],
            "image/png": "[encoded data removed]"
          },
          "metadata": {
            "needs_background": "light"
          }
        }
      ],
      "source": [
        "from statsmodels.tsa.statespace.sarimax import SARIMAX\n",
        "mod = SARIMAX(ts_decompose, trend='n', order=(1,1,0), seasonal_order=(3,0,3,4))\n",
        "resSARIMAX = mod.fit()\n",
        "pred = resSARIMAX.predict()\n",
        "\n",
        "fig = plt.figure(constrained_layout=True)\n",
        "gs = gridspec.GridSpec(2, 1, figure=fig)\n",
        "ax = fig.add_subplot(gs[0,:])\n",
        "ax.plot(ts_decompose)\n",
        "ax.set_xlabel('time [months')\n",
        "ax.set_ylabel('data')\n",
        "ax.set_title('Logged data')\n",
        "\n",
        "ax2 = fig.add_subplot(gs[1,:])\n",
        "ax2.plot(pred)\n",
        "ax2.set_xlabel('time [months]')\n",
        "ax2.set_ylabel('data')\n",
        "ax2.set_title('SARIMAX model')\n",
        "print ('SARIMAX RMSE: %.6f'% np.sqrt(sum((pred-ts_decompose)**2)/len(ts)))"
      ]
    },
    {
      "cell_type": "markdown",
      "metadata": {
        "id": "fnJw550VNInK"
      },
      "source": [
        "# Hasil Prediksi"
      ]
    },
    {
      "cell_type": "code",
      "execution_count": null,
      "metadata": {
        "colab": {
          "base_uri": "https://localhost:8080/",
          "height": 282
        },
        "id": "ofngIZWg9ixE",
        "outputId": "23b58f04-9413-4d2d-a115-690fd7d4652d"
      },
      "outputs": [
        {
          "output_type": "stream",
          "name": "stdout",
          "text": [
            "SARIMAX RMSE: 4.9717\n"
          ]
        },
        {
          "output_type": "display_data",
          "data": {
            "text/plain": [
              "<Figure size 432x288 with 1 Axes>"
            ],
            "image/png": "[encoded data removed]"
          },
          "metadata": {
            "needs_background": "light"
          }
        }
      ],
      "source": [
        "predictions_SARIMAX_diff = pd.Series(pred, copy=True)\n",
        "predictions_SARIMAX_log = pd.Series(ts_log.iloc[0], index=ts_log.index)\n",
        "predictions_SARIMAX_log = predictions_SARIMAX_log.add(predictions_SARIMAX_diff,fill_value=0)\n",
        "predictions_SARIMAX = np.exp(predictions_SARIMAX_log)\n",
        "\n",
        "plt.plot(ts)\n",
        "plt.plot(predictions_SARIMAX)\n",
        "print('SARIMAX RMSE: %.4f'% np.sqrt(sum((predictions_SARIMAX-ts)**2)/len(ts)))"
      ]
    }
  ],
  "metadata": {
    "colab": {
      "provenance": []
    },
    "kernelspec": {
      "display_name": "Python 3",
      "name": "python3"
    },
    "language_info": {
      "name": "python"
    }
  },
  "nbformat": 4,
  "nbformat_minor": 0
}